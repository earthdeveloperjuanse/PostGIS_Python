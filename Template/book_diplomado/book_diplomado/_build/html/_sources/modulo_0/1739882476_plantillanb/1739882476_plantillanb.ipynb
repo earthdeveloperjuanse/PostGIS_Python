{
 "cells": [
  {
   "cell_type": "markdown",
   "metadata": {},
   "source": [
    "# Introducción a las principales librerías: NumPy, Pandas, rasterio, GDAL y geopandas"
   ]
  },
  {
   "cell_type": "markdown",
   "metadata": {},
   "source": [
    "```{admonition} Guía para el docente\n",
    ":class: danger\n",
    " - El título  debe corresponder al nombre de la unidad sin incluir numeración. \n",
    "\n",
    "```\n",
    "\n",
    "✅ **Ejemplo correcto:** Introducción a las principales librerías: NumPy, Pandas, rasterio, GDAL y geopandas  \n",
    "❌ **Ejemplo incorrecto:** 1.2.1. Introducción a las principales librerías: NumPy, Pandas, rasterio, GDAL y geopandas\n"
   ]
  },
  {
   "cell_type": "markdown",
   "metadata": {},
   "source": [
    "\n",
    "```{image} Imagenes/unidades.JPG\n",
    ":width: 500px\n",
    ":align: center\n",
    ":alt: unidad\n",
    "```\n",
    "\n",
    "<p style=\"text-align: center; font-size: 12px;\"> \n",
    "<strong>Fig.1. Unidades temáticas – Creación propia.</strong>\n",
    " </p>"
   ]
  },
  {
   "cell_type": "markdown",
   "metadata": {},
   "source": [
    "## Caso de Uso o Contexto : Exploración de la Cobertura del Suelo para 6 Municipios de Cundinamarca "
   ]
  },
  {
   "cell_type": "markdown",
   "metadata": {},
   "source": [
    "```{admonition} Guía para el docente\n",
    ":class: danger\n",
    " - En esta sección, se presentará un **caso de uso o un contexto** con el fin de ilustrar los conceptos a desarrollar en la guía. Esto permitirá una mejor comprensión y aplicación de los temas abordados. \n",
    "\n",
    "```\n",
    "\n",
    "\n",
    "Ejemplo, El departamento de Cundinamarca requiere conocer la distribución de su cobertura del suelo para mejorar la gestión territorial y ambiental. Se busca analizar la cobertura del suelo en seis municipios mediante datos raster y vectoriales, identificando áreas urbanas, agrícolas, bosques y cuerpos de agua."
   ]
  },
  {
   "cell_type": "markdown",
   "metadata": {},
   "source": [
    "```{admonition} Recursos\n",
    ":class: nota\n",
    "- Jupyter Notebook: [<span>&#x1F4E5;</span> Introducción_librerías.ipynb](ruta/al/archivo.ipynb)  \n",
    "- Capa vectorial: [<span>&#x1F4E5;</span> cobertura.zip](ruta/al/archivo/cobertura.txt)\n",
    "\n",
    "**En este recuadro, se deben listar los recursos requeridos para desarrollar la guía, como bases vectoriales, imágenes satelitales y etc** \n",
    "```\n"
   ]
  },
  {
   "cell_type": "markdown",
   "metadata": {},
   "source": [
    "### Análisis del Problema"
   ]
  },
  {
   "cell_type": "markdown",
   "metadata": {},
   "source": [
    "\n",
    "```{admonition} Guía para el docente\n",
    ":class: danger\n",
    " - En está sección se describirá el objetivo de la unidad en relación con el caso de uso, así como los conceptos clave que se deben considerar para abordar el análisis del caso de uso.\n",
    "\n",
    "```\n",
    "\n",
    "**Objetivo:** Analizar la distribución de la cobertura del suelo en seis municipios de Cundinamarca.\n",
    "\n",
    "**Conceptos:** \n",
    "  * Análisis estadístico: Cálculo de proporciones y tendencias para interpretar la distribución de la cobertura del suelo.\n"
   ]
  },
  {
   "cell_type": "markdown",
   "metadata": {},
   "source": [
    "```{admonition} Guía para el docente\n",
    ":class: danger\n",
    " - Las siguientes secciones se adaptarán según el desarrollo que desee realizar, culminando con un análisis de resultados o conclusiones.\n",
    "\n",
    "```\n",
    "\n",
    "Ejemplo"
   ]
  },
  {
   "cell_type": "markdown",
   "metadata": {},
   "source": [
    "### NumPy \n",
    "\n",
    "NumPy (Numerical Python) es una biblioteca de Python que proporciona estructuras de datos eficientes y funciones matemáticas  para la manipulación de arreglos multidimensionales (arrays).\n",
    "\n",
    "\n",
    "```{image} Imagenes/NumPy.png\n",
    ":width: 300px\n",
    ":align: center\n",
    ":alt: numpy\n",
    "```\n",
    "\n",
    "<p style=\"text-align: center; font-size: 12px;\">\n",
    "    <strong> Fig.2. Imagen tomada de \n",
    "    <a href=\"https://numpy.org/\" target=\"_blank\">NumPy Website</a></strong>\n",
    "</p>"
   ]
  },
  {
   "cell_type": "markdown",
   "metadata": {},
   "source": [
    "**¿Para qué sirve NumPy?**\n",
    "\n",
    "* Manejo de arreglos y matrices: Facilita la creación, manipulación y almacenamiento de datos en estructuras eficientes.\n",
    "* Operaciones matemáticas y estadísticas: Permite realizar cálculos rápidos como sumas, promedios, medianas, desviaciones estándar, etc.\n",
    "* Álgebra lineal: Incluye funciones para resolver ecuaciones, descomposiciones matriciales y transformaciones lineales.\n",
    "* Manejo eficiente de datos grandes: Optimiza la memoria y el procesamiento en comparación con las listas nativas de Python.\n",
    "* Interoperabilidad con otras bibliotecas: Se integra con `pandas` , `SciPy`, `scikit-learn` y `TensorFlow` , entre otras.\n",
    "\n",
    "NumPy es clave en el procesamiento de datos geoespaciales por varias razones:\n",
    "\n",
    "* Procesamiento de datos raster : Los archivos raster (como imágenes satelitales y modelos de elevación) son esencialmente matrices de valores numéricos. NumPy permite su manipulación rápida, cálculo de estadísticas y aplicación de filtros.\n",
    "* Bibliotecas como `rasterio`, `GDAL` y xarray usan NumPy internamente para manejar datos raster.\n",
    "\n",
    " 📌 [Documentación de Numpy](https://numpy.org/)"
   ]
  },
  {
   "cell_type": "markdown",
   "metadata": {},
   "source": [
    "En la **Tabla 1**, se presenta la **Clasificación de Uso del Suelo - Nivel 1**.\n",
    "\n",
    "| Nivel 1 | Nombre                          |\n",
    "|---------|---------------------------------|\n",
    "| 1       | Territorios Artificializados   |\n",
    "| 2       | Territorios Agrícolas          |\n",
    "| 3       | Bosques y Áreas Seminaturales  |\n",
    "| 4       | Áreas Húmedas                  |\n",
    "| 5       | Superficies de Agua            |\n",
    "\n",
    "\n",
    "<p align=\"left\" style=\"font-size: 12px;\">\n",
    "<b><strong>Tabla 1. Clasificación de Uso del Suelo - Nivel 1</strong></b>\n",
    "</p>"
   ]
  },
  {
   "cell_type": "markdown",
   "metadata": {},
   "source": [
    "La fórmula para el índice de vegetación normalizado (NDVI) es: \n",
    "\n",
    "$$\\text{NDVI} = \\frac{(NIR - RED)}{(NIR + RED)}$$\n",
    "\n",
    "<p align=\"center\" style=\"font-size: 12px;\">\n",
    "<b><strong>Ecuación 1. Ejemplo</strong></b>\n",
    "</p>"
   ]
  },
  {
   "cell_type": "code",
   "execution_count": 2,
   "metadata": {},
   "outputs": [
    {
     "name": "stdout",
     "output_type": "stream",
     "text": [
      "[[0.33333333 0.14285714]\n",
      " [0.09090909 0.06666667]]\n"
     ]
    }
   ],
   "source": [
    "import numpy as np\n",
    "\n",
    "# Simulación  dos bandas \n",
    "nir = np.array([[0.2, 0.4], [0.6, 0.8]])  # Banda infrarroja cercana\n",
    "red = np.array([[0.1, 0.3], [0.5, 0.7]])  # Banda roja\n",
    "\n",
    "# Cálculo del NDVI\n",
    "ndvi = (nir - red) / (nir + red)\n",
    "\n",
    "print(ndvi)"
   ]
  },
  {
   "cell_type": "markdown",
   "metadata": {},
   "source": []
  },
  {
   "cell_type": "markdown",
   "metadata": {},
   "source": [
    "\n",
    "\n",
    "```{admonition} Actividad \n",
    ":class: important\n",
    " - **Este reacudro está destinado a preguntas y actividades para los estudiantes.**\n",
    "```\n",
    "\n"
   ]
  },
  {
   "cell_type": "markdown",
   "metadata": {},
   "source": [
    "Si agrega `%%capture` al inicio de una celda, esta ocultará cualquier salida de la ejecución de la celda. "
   ]
  },
  {
   "cell_type": "code",
   "execution_count": 14,
   "metadata": {},
   "outputs": [],
   "source": [
    "%%capture\n",
    "import numpy as np\n",
    "\n",
    "# Simulación  dos bandas \n",
    "nir = np.array([[0.2, 0.4], [0.6, 0.8]])  # Banda infrarroja cercana\n",
    "red = np.array([[0.1, 0.3], [0.5, 0.7]])  # Banda roja\n",
    "\n",
    "# Cálculo del NDVI\n",
    "ndvi = (nir - red) / (nir + red)\n",
    "\n",
    "print(ndvi)"
   ]
  },
  {
   "cell_type": "markdown",
   "metadata": {},
   "source": [
    "### Análisis de Resultados o Conclusiones\n",
    "\n",
    "```{admonition} Guía para el docente\n",
    ":class: danger\n",
    " -Para la sección de Análisis de Resultados o Conclusiones de la unidad, se recomienda que el docente, indique los objetivos de aprendizaje alcanzados \n",
    "\n",
    "```"
   ]
  },
  {
   "cell_type": "markdown",
   "metadata": {},
   "source": [
    "```{admonition} Nota\n",
    ":class: tip\n",
    " - **En este recuadro, proporcione definiciones  conceptos clave, aspectos importantes o recomendaciones que los estudiantes deben comprender para asimilar el contenido de la lección.**\n",
    "```\n",
    "   "
   ]
  },
  {
   "cell_type": "markdown",
   "metadata": {},
   "source": [
    "# Instrucciones para organizar la unidad\n",
    "\n",
    "Para organizar su unidad, siga estos pasos:\n",
    "\n",
    "1. **Crear una carpeta con un código único**: Genere un código único utilizando una marca de tiempo Unix. Puede obtener la marca de tiempo actual en [https://www.unixtimestamp.com/](https://www.unixtimestamp.com/). El nombre de la carpeta debe seguir el formato `marcaDeTiempo_nombreAbreviado`, por ejemplo, `17400010441_introduccion_librerias`.\n",
    "\n",
    "\n",
    "```{image} Imagenes/codigo.JPG\n",
    ":width: 800px\n",
    ":align: center\n",
    ":alt: alt\n",
    "```\n",
    "<p align=\"center\" style=\"font-size: 12px;\"><b>\n",
    "<strong>Fig.3. Creación carpeta – Creación propia.</strong></b>\n",
    "</p>\n",
    "\n",
    "\n",
    "\n",
    "1. **Dentro de esta carpeta**:\n",
    "   - **Archivo principal**: Cree un archivo principal en formato Markdown (`.md`) o Jupyter Notebook (`.ipynb`). El nombre del archivo debe coincidir con el de la carpeta, por ejemplo, `17400010441_introduccion_librerias.md` o `17400010441_introduccion_librerias.ipynb`.\n",
    "   - **Carpeta de imágenes**: Cree una subcarpeta llamada `imagenes` donde almacenará todas las imágenes que utilizará en su archivo principal.\n",
    "\n",
    "\n",
    "\n",
    "```{image} Imagenes/carpetas2.JPG.\n",
    ":width: 300px\n",
    ":align: center\n",
    ":alt: alt\n",
    "```\n",
    "<p align=\"center\" style=\"font-size: 12px;\"><b>\n",
    "<strong>Fig.4. Creación carpetas – Creación propia.</strong></b>\n",
    "</p>\n"
   ]
  },
  {
   "cell_type": "markdown",
   "metadata": {},
   "source": [
    "## Referencias\n",
    "\n",
    "1. [NumPy - Sitio Oficial](https://numpy.org/)\n",
    "2. [JupyterBook](https://jupyterbook.org/en/stable/content/index.html)"
   ]
  }
 ],
 "metadata": {
  "kernelspec": {
   "display_name": "igac_cf",
   "language": "python",
   "name": "python3"
  },
  "language_info": {
   "codemirror_mode": {
    "name": "ipython",
    "version": 3
   },
   "file_extension": ".py",
   "mimetype": "text/x-python",
   "name": "python",
   "nbconvert_exporter": "python",
   "pygments_lexer": "ipython3",
   "version": "3.11.8"
  }
 },
 "nbformat": 4,
 "nbformat_minor": 2
}

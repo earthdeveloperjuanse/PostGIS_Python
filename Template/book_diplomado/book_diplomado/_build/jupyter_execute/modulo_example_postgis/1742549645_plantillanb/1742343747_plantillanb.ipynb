{
 "cells": [
  {
   "cell_type": "markdown",
   "metadata": {},
   "source": [
    "# Bases de datos espaciales: PostGIS y su integración con Python (Ejemplo de uso)"
   ]
  },
  {
   "cell_type": "markdown",
   "metadata": {},
   "source": [
    "## Bases de datos espaciales"
   ]
  },
  {
   "cell_type": "markdown",
   "metadata": {},
   "source": [
    "## Tabla de contenido\n",
    "1. Definiciones preliminares\n",
    "2. El lenguaje SQL<br>\n",
    "    2.1. Creación y eliminación de tablas<br>\n",
    "    2.2. Inserción de datos<br>\n",
    "    2.3. Consultas básicas con SELECT<br>\n",
    "    2.4. Eliminación de duplicados con DISTINCT<br>\n",
    "    2.5. Uso de JOIN para combinar tablas<br>\n",
    "    2.6. Subconsultas<br>\n",
    "    2.7. Uso de GROUP BY y HAVING<br>\n",
    "    2.8. Actualización de datos<br>\n",
    "    2.9. Eliminar registros<br>\n",
    "    2.10. Vistas<br>\n",
    "    2.11. Llaves foráneas<br>\n",
    "    2.12. Transacciones<br>\n",
    "3. PostgreSQL<br>\n",
    "    3.1. Instalación\n",
    "4. PostGIS<br>\n",
    "    4.1. Instalación<br>\n",
    "    4.2. Administración PostGIS<br>\n",
    "        4.2.1. Modelo de datos espacial<br>\n",
    "        4.2.2. Tipos de datos geográficos<br>\n",
    "        4.2.3. Cálculo de atributos geométricos<br>\n",
    "        4.2.4. Sistemas de referencia espacial<br>\n",
    "    4.3. Cargar datos espaciales utilizando SQL<br>\n",
    "        4.3.1. Datos vectoriales<br>\n",
    "        4.3.2. Extrayendo datos espaciales vectoriales<br>\n",
    "        4.3.3. Datos ráster<br>\n",
    "        4.3.4. Extrayendo datos espaciales ráster<br>\n",
    "5. Integración PostGIS / Python\n",
    "6. Caso de estudio: Administración de datos para generación de modelo clasificador de Bosque / No Bosque por medio de PostGIS y Python\n",
    "7. Referencias y recursos\n"
   ]
  },
  {
   "cell_type": "markdown",
   "metadata": {},
   "source": [
    "### Definiciones preliminares\n",
    "\n",
    "**Base de datos**\n",
    "\n",
    "\"...Una base de datos es una recopilación organizada de información o datos estructurados, que normalmente se almacena de forma electrónica en un sistema informático. Normalmente, una base de datos está controlada por un sistema de gestión de bases de datos (DBMS). En conjunto, los datos y el DBMS, junto con las aplicaciones asociadas a ellos, reciben el nombre de sistema de bases de datos, abreviado normalmente a simplemente base de datos....\"\n",
    "\n",
    "**Lenguaje de consulta estructurada (SQL)**\n",
    "\"...El SQL es un lenguaje de programación que utilizan casi todas las bases de datos relacionales para consultar, manipular y definir los datos, y para proporcionar control de acceso....\"\n",
    "\n",
    "**Software de base de datos**\n",
    "\"...El software de base de datos se utiliza para crear, editar y mantener archivos y registros de bases de datos, lo que facilita la creación de archivos y registros, la entrada de datos, la edición de datos, la actualización y la creación de informes. El software también maneja el almacenamiento de datos, las copias de seguridad y la creación de informes, así como el control de acceso múltiple y la seguridad....\"\n",
    "\n",
    "**Sistema de gestión de bases de datos**\n",
    "\"...Normalmente, una base de datos requiere un programa de software de bases de datos completo, conocido como sistema de gestión de bases de datos (DBMS). Un DBMS sirve como interfaz entre la base de datos y sus programas o usuarios finales, lo que permite a los usuarios recuperar, actualizar y gestionar cómo se organiza y se optimiza la información. Un DBMS también facilita la supervisión y el control de las bases de datos, lo que permite una variedad de operaciones administrativas como la supervisión del rendimiento, el ajuste, la copia de seguridad y la recuperación.\n",
    "Algunos ejemplos de software de bases de datos o DBMS populares incluyen MySQL, Microsoft Access, Microsoft SQL Server, FileMaker Pro, Oracle Database y dBASE...\"\n",
    "\n",
    "Oracle (https://www.oracle.com/co/database/what-is-database/)\n",
    "\n",
    "**PostgreSQL**\n",
    "\"...PostgreSQL es un sistema de gestión de bases de datos relacionales de objetos ( ORDBMS ) basado en POSTGRES, versión 4.2 , desarrollado en el Departamento de Informática de la Universidad de California en Berkeley. POSTGRES fue pionero en muchos conceptos que solo estuvieron disponibles en algunos sistemas de bases de datos comerciales mucho más tarde....\"\n",
    "\n",
    "PostgreSQL (https://www.postgresql.org/docs/current/intro-whatis.html)"
   ]
  },
  {
   "cell_type": "markdown",
   "metadata": {},
   "source": [
    "### El lenguaje SQL\n",
    "\n",
    "\"...El lenguaje de consulta estructurada (SQL) es un lenguaje estándar para la creación y manipulación de bases de datos...\"\n",
    "\n",
    "AWS (https://aws.amazon.com/es/what-is/sql/#:~:text=El%20lenguaje%20de%20consulta%20estructurada%20(SQL)%20es%20un%20lenguaje%20est%C3%A1ndar,relacional%20que%20utiliza%20consultas%20SQL.)"
   ]
  },
  {
   "cell_type": "markdown",
   "metadata": {},
   "source": [
    "### PostgreSQL\n",
    "\"...PostgreSQL es un sistema de gestión de bases de datos relacionales de objetos (ORDBMS), desarrollado en el Departamento de Informática de la Universidad de California en Berkeley. POSTGRES fue pionero en muchos conceptos que solo estuvieron disponibles en algunos sistemas de bases de datos comerciales mucho más tarde...Y gracias a la licencia liberal, PostgreSQL puede ser utilizado, modificado y distribuido por cualquier persona de forma gratuita y para cualquier propósito, ya sea privado, comercial o académico\"\n",
    "PostgreSQL (https://www.postgresql.org/docs/current/intro-whatis.html)"
   ]
  },
  {
   "cell_type": "markdown",
   "metadata": {},
   "source": [
    "### PostGIS\n",
    "\"...PostGIS amplía las capacidades de la base de datos relacional PostgreSQL al agregar soporte para almacenar, indexar y consultar datos geoespaciales....\"\n",
    "Las características de PostGIS incluyen:\n",
    "- **Almacenamiento de datos espaciales:** almacene diferentes tipos de datos espaciales, como puntos, líneas, polígonos y multigeometrías, tanto en datos 2D como 3D.\n",
    "- **Indexación espacial:** busque y recupere rápidamente datos espaciales en función de su ubicación.\n",
    "- **Funciones espaciales:** una amplia gama de funciones espaciales que le permiten filtrar y analizar datos espaciales, medir distancias y áreas , intersecar geometrías, crear búferes y más.\n",
    "- **Procesamiento de geometría:** herramientas para procesar y manipular datos geométricos, como simplificación , conversión y generalización.\n",
    "- **Soporte de datos ráster:** almacenamiento y procesamiento de datos ráster , como datos de elevación y datos meteorológicos.\n",
    "- **Geocodificación y geocodificación inversa:** Funciones para geocodificación y geocodificación inversa.\n",
    "- **Integración:** acceda y trabaje con PostGIS utilizando herramientas de terceros como QGIS , GeoServer , MapServer , ArcGIS, Tableau.\n",
    "\n",
    "PostGIS (https://postgis.net/)\n"
   ]
  },
  {
   "cell_type": "markdown",
   "metadata": {},
   "source": [
    "### Integración PostGIS / Python"
   ]
  },
  {
   "cell_type": "markdown",
   "metadata": {},
   "source": [
    "* Cargar datos desde Shapefile con librerías de python `Geopandas`, `Shapely` y `psycopg2`"
   ]
  },
  {
   "cell_type": "code",
   "execution_count": 1,
   "metadata": {},
   "outputs": [],
   "source": [
    "# GeoPandas: Extensión de Pandas para manejar datos geoespaciales (puntos, líneas, polígonos).\n",
    "# Permite leer, escribir y analizar datos espaciales en formatos como Shapefile, GeoJSON, etc.\n",
    "import geopandas as gpd\n",
    "# Psycopg2: Biblioteca para conectar Python con bases de datos PostgreSQL.\n",
    "# Se usa para ejecutar consultas SQL, manejar transacciones y trabajar con datos espaciales en PostGIS.\n",
    "import psycopg2\n",
    "# Shapely: Biblioteca para la manipulación y análisis de geometrías espaciales.\n",
    "# 'wkt' (Well-Known Text) permite convertir entre texto y objetos geométricos.\n",
    "from shapely import wkt"
   ]
  },
  {
   "cell_type": "markdown",
   "metadata": {},
   "source": [
    "Leer los datos espaciales con ayuda de Geopandas"
   ]
  },
  {
   "cell_type": "code",
   "execution_count": 2,
   "metadata": {},
   "outputs": [
    {
     "data": {
      "text/html": [
       "<div>\n",
       "<style scoped>\n",
       "    .dataframe tbody tr th:only-of-type {\n",
       "        vertical-align: middle;\n",
       "    }\n",
       "\n",
       "    .dataframe tbody tr th {\n",
       "        vertical-align: top;\n",
       "    }\n",
       "\n",
       "    .dataframe thead th {\n",
       "        text-align: right;\n",
       "    }\n",
       "</style>\n",
       "<table border=\"1\" class=\"dataframe\">\n",
       "  <thead>\n",
       "    <tr style=\"text-align: right;\">\n",
       "      <th></th>\n",
       "      <th>Shape_Leng</th>\n",
       "      <th>Shape_Area</th>\n",
       "      <th>class</th>\n",
       "      <th>ORIG_FID</th>\n",
       "      <th>geometry</th>\n",
       "    </tr>\n",
       "  </thead>\n",
       "  <tbody>\n",
       "    <tr>\n",
       "      <th>0</th>\n",
       "      <td>0.0</td>\n",
       "      <td>0.0</td>\n",
       "      <td>Bosque</td>\n",
       "      <td>0</td>\n",
       "      <td>POINT (333600.852 710803.978)</td>\n",
       "    </tr>\n",
       "    <tr>\n",
       "      <th>1</th>\n",
       "      <td>0.0</td>\n",
       "      <td>0.0</td>\n",
       "      <td>Bosque</td>\n",
       "      <td>0</td>\n",
       "      <td>POINT (333797.268 710693.129)</td>\n",
       "    </tr>\n",
       "    <tr>\n",
       "      <th>2</th>\n",
       "      <td>0.0</td>\n",
       "      <td>0.0</td>\n",
       "      <td>Bosque</td>\n",
       "      <td>0</td>\n",
       "      <td>POINT (333865.332 710844.816)</td>\n",
       "    </tr>\n",
       "    <tr>\n",
       "      <th>3</th>\n",
       "      <td>0.0</td>\n",
       "      <td>0.0</td>\n",
       "      <td>Bosque</td>\n",
       "      <td>0</td>\n",
       "      <td>POINT (334120.089 710615.341)</td>\n",
       "    </tr>\n",
       "    <tr>\n",
       "      <th>4</th>\n",
       "      <td>0.0</td>\n",
       "      <td>0.0</td>\n",
       "      <td>Bosque</td>\n",
       "      <td>0</td>\n",
       "      <td>POINT (334166.762 710842.872)</td>\n",
       "    </tr>\n",
       "  </tbody>\n",
       "</table>\n",
       "</div>"
      ],
      "text/plain": [
       "   Shape_Leng  Shape_Area   class  ORIG_FID                       geometry\n",
       "0         0.0         0.0  Bosque         0  POINT (333600.852 710803.978)\n",
       "1         0.0         0.0  Bosque         0  POINT (333797.268 710693.129)\n",
       "2         0.0         0.0  Bosque         0  POINT (333865.332 710844.816)\n",
       "3         0.0         0.0  Bosque         0  POINT (334120.089 710615.341)\n",
       "4         0.0         0.0  Bosque         0  POINT (334166.762 710842.872)"
      ]
     },
     "execution_count": 2,
     "metadata": {},
     "output_type": "execute_result"
    }
   ],
   "source": [
    "shapefile_path = \"./Samples/Samples_Point.shp\"  # Ruta del archivo .shp con datos geoespaciales\n",
    "gdf = gpd.read_file(shapefile_path)  # Cargar el archivo en un GeoDataFrame\n",
    "gdf.head()  # Mostrar las primeras filas del GeoDataFrame para inspección"
   ]
  },
  {
   "cell_type": "markdown",
   "metadata": {},
   "source": [
    "Crear la conexión con la base de datos espacial"
   ]
  },
  {
   "cell_type": "code",
   "execution_count": 2,
   "metadata": {},
   "outputs": [],
   "source": [
    "DB_CONFIG = {\n",
    "    \"dbname\": \"DB_GIS\",                 # Nombre de la base de datos\n",
    "    \"user\": \"postgres\",                 # Usuario de la base de datos\n",
    "    \"password\": \"postgres\",             # Contraseña del usuario\n",
    "    \"host\": \"localhost\",                # Dirección del servidor (localhost si es local)\n",
    "    \"port\": \"5432\"                      # Puerto predeterminado de PostgreSQL\n",
    "}\n",
    "conn = psycopg2.connect(**DB_CONFIG)    # Establecer conexión con la base de datos PostgreSQL\n",
    "cur = conn.cursor()                     # Crear un cursor para ejecutar comandos SQL"
   ]
  },
  {
   "cell_type": "markdown",
   "metadata": {},
   "source": [
    "Creación de tabla con columnas a cargar"
   ]
  },
  {
   "cell_type": "code",
   "execution_count": 4,
   "metadata": {},
   "outputs": [],
   "source": [
    "# Crear una tabla en PostGIS si no existe\n",
    "create_table_query = \"\"\"\n",
    "CREATE TABLE IF NOT EXISTS training_sample (\n",
    "    id SERIAL PRIMARY KEY,              -- Identificador único autoincremental\n",
    "    class TEXT,                         -- Columna para almacenar la clase del punto\n",
    "    geom GEOMETRY(Geometry, 32619)      -- Columna geométrica con proyección EPSG:32619 (UTM Zona 19N)\n",
    ");\n",
    "\"\"\"\n",
    "cur.execute(create_table_query)     # Ejecutar la consulta SQL para crear la tabla\n",
    "conn.commit()                       # Confirmar la creación de la tabla en la base de datos"
   ]
  },
  {
   "cell_type": "markdown",
   "metadata": {},
   "source": [
    "```{image} Imagenes/Table_Training_Sample.PNG\n",
    ":width: 500px\n",
    ":align: center\n",
    ":alt: unidad\n",
    "```\n",
    "<p style=\"text-align: center; font-size: 12px;\"> \n",
    "<strong>Fig. 1. Tabla creada \"training_sample\" en base de datos </strong>\n",
    "</p>"
   ]
  },
  {
   "cell_type": "markdown",
   "metadata": {},
   "source": [
    "Insertar los datos"
   ]
  },
  {
   "cell_type": "code",
   "execution_count": 5,
   "metadata": {},
   "outputs": [],
   "source": [
    "conn.rollback()  # Realizar un rollback por seguridad antes de insertar datos (opcional)\n",
    "insert_query = \"INSERT INTO training_sample (class, geom) VALUES (%s, ST_GeomFromText(%s, 32619))\"\n",
    "# Iterar sobre cada fila del GeoDataFrame y cargar los datos en la base de datos\n",
    "for _, row in gdf.iterrows():\n",
    "    class_ = row[\"class\"]                       # Extraer el valor de la columna 'class' (ajustar según los nombres de columnas)\n",
    "    geom = row[\"geometry\"].wkt                  # Convertir la geometría a formato WKT (Well-Known Text)    \n",
    "    cur.execute(insert_query, (class_, geom))   # Ejecutar la consulta SQL con los valores extraídos\n",
    "conn.commit()                                   # Confirmar la inserción de datos en la base de datos\n",
    "cur.close()                                     # Cerrar el cursor y la conexión con la base de datos\n",
    "conn.close()"
   ]
  },
  {
   "cell_type": "markdown",
   "metadata": {},
   "source": [
    "* Cargar datos desde archivo .tif con librerías de python `subprocess` y `psycopg2`"
   ]
  },
  {
   "cell_type": "code",
   "execution_count": 4,
   "metadata": {},
   "outputs": [],
   "source": [
    "import psycopg2     # psycopg2: Librería para conectar Python con bases de datos PostgreSQL. Permite ejecutar consultas SQL, manipular datos y gestionar transacciones.\n",
    "import subprocess   # subprocess: Módulo para ejecutar comandos del sistema desde Python. Se usa para llamar programas externos como psql, raster2pgsql, etc.\n",
    "import os"
   ]
  },
  {
   "cell_type": "code",
   "execution_count": 5,
   "metadata": {},
   "outputs": [
    {
     "data": {
      "text/plain": [
       "\"\\n¿Por qué usar PGPASSWORD?\\n- Evita que psql solicite la contraseña cada vez que se ejecuta un comando.\\n- Facilita la automatización de tareas en PostgreSQL, como importar datos o ejecutar scripts SQL.\\n- Es más seguro que escribir la contraseña directamente en el comando, pero aún es recomendable eliminarla después de su uso.'\\n\""
      ]
     },
     "execution_count": 5,
     "metadata": {},
     "output_type": "execute_result"
    }
   ],
   "source": [
    "DB_CONFIG = {\n",
    "    \"dbname\": \"DB_GIS\",                 # Nombre de la base de datos\n",
    "    \"user\": \"postgres\",                 # Usuario de la base de datos\n",
    "    \"password\": \"postgres\",             # Contraseña del usuario\n",
    "    \"host\": \"localhost\",                # Dirección del servidor (localhost si es local)\n",
    "    \"port\": \"5432\"                      # Puerto predeterminado de PostgreSQL\n",
    "}\n",
    "conn = psycopg2.connect(**DB_CONFIG) \n",
    "cur = conn.cursor()\n",
    "# Abrir el archivo raster (.tif)\n",
    "raster_path = r'C:\\Users\\JHERNANDEZ\\OneDrive - Esri NOSA\\Documentos\\GitHub\\PostGIS_Python\\PostGIS_Python\\temp_raster.tif'\n",
    "os.environ[\"PGPASSWORD\"] = DB_CONFIG[\"password\"]\n",
    "'''\n",
    "¿Por qué usar PGPASSWORD?\n",
    "- Evita que psql solicite la contraseña cada vez que se ejecuta un comando.\n",
    "- Facilita la automatización de tareas en PostgreSQL, como importar datos o ejecutar scripts SQL.\n",
    "- Es más seguro que escribir la contraseña directamente en el comando, pero aún es recomendable eliminarla después de su uso.'\n",
    "'''\n"
   ]
  },
  {
   "cell_type": "code",
   "execution_count": 6,
   "metadata": {},
   "outputs": [],
   "source": [
    "# Ruta a la carpeta donde están raster2pgsql y psql\n",
    "pg_bin_path = r\"C:\\Program Files\\PostgreSQL\\16\\bin\"\n",
    "sql_output_path = r\"C:\\Shp_Example\\prueba.sql\"\n",
    "# Construir el comando con la ruta completa de raster2pgsql y psql\n",
    "cmd = fr'\"{pg_bin_path}\\raster2pgsql.exe\" -s 32619 -I -C \"{raster_path}\" >  {sql_output_path}'\n",
    "# Ejecutar el comando en la terminal\n",
    "process = subprocess.run(cmd, shell=True, capture_output=True, text=True)"
   ]
  },
  {
   "cell_type": "code",
   "execution_count": 7,
   "metadata": {},
   "outputs": [],
   "source": [
    "cmd = fr'\"{pg_bin_path}\\psql.exe\" -d {DB_CONFIG[\"dbname\"]} -U {DB_CONFIG[\"user\"]} -h {DB_CONFIG[\"host\"]} -p {DB_CONFIG[\"port\"]} -f \"{sql_output_path}\"'\n",
    "# Ejecutar el comando\n",
    "process = subprocess.run(cmd, shell=True, capture_output=True, text=True)\n",
    "# Limpiar la variable de entorno después de ejecutar el comando\n",
    "del os.environ[\"PGPASSWORD\"]"
   ]
  },
  {
   "cell_type": "code",
   "execution_count": 8,
   "metadata": {},
   "outputs": [
    {
     "name": "stdout",
     "output_type": "stream",
     "text": [
      "BEGIN\n",
      "CREATE TABLE\n",
      "INSERT 0 1\n",
      "CREATE INDEX\n",
      "ANALYZE\n",
      " addrasterconstraints \n",
      "----------------------\n",
      " t\n",
      "(1 fila)\n",
      "\n",
      "COMMIT\n",
      "\n"
     ]
    }
   ],
   "source": [
    "print(process.stdout)"
   ]
  },
  {
   "cell_type": "markdown",
   "metadata": {},
   "source": [
    "### Caso de estudio: Administración de datos para generación de modelo clasificador de Bosque / No Bosque por medio de PostGIS y Python\n",
    "\n",
    "El caso de estudio **\"Bosque - No Bosque\"** consiste en la clasificación de áreas geográficas en dos categorías: regiones con cobertura boscosa y regiones sin cobertura boscosa. Este análisis es fundamental para la gestión ambiental, la planificación territorial y el monitoreo del cambio climático. Para lograr esta clasificación, se integran **datos ráster y vectoriales** almacenados en una base de datos PostgreSQL, combinados con técnicas de Machine Learning en Python.\n",
    "\n",
    "El proceso comienza con la extracción de datos ráster almacenados en PostGIS, los cuales contienen información multiespectral de imágenes satelitales. Luego, se combinan con muestras de entrenamiento vectoriales que indican la cobertura real de la tierra, permitiendo entrenar un modelo de clasificación basado en **Random Forest**. Este modelo aprende a diferenciar áreas boscosas y no boscosas a partir de las firmas espectrales de los píxeles.\n",
    "\n",
    "La **integración de PostGIS y Python** es clave para procesar datos espaciales de manera eficiente. PostGIS permite realizar consultas geoespaciales avanzadas y gestionar datos ráster y vectoriales en una base de datos optimizada, mientras que Python proporciona herramientas avanzadas para el análisis de datos y el entrenamiento de modelos de aprendizaje automático. La combinación de ambas tecnologías permite automatizar la extracción de datos, la clasificación y la visualización de los resultados en mapas interpretables.\n",
    "\n",
    "Este enfoque facilita la toma de decisiones basadas en datos espaciales, permitiendo la identificación de patrones de deforestación, el monitoreo de la salud de los bosques y la generación de políticas ambientales más efectivas."
   ]
  },
  {
   "cell_type": "markdown",
   "metadata": {},
   "source": [
    "Cargar imagen a base de datos espacial\n",
    "\n",
    "```sh\n",
    "raster2pgsql.exe -s 32619 -I -C C:\\PostGIS_Python\\nir_aoi.tif > C:\\PostGIS_Python\\load_nir_img.sql\n",
    "\n",
    "psql -d postgis_34_sample -f C:\\PostGIS_Python\\load_nir_img.sql\n",
    "```"
   ]
  },
  {
   "cell_type": "markdown",
   "metadata": {},
   "source": [
    "Importas las liberías necesarias para el caso de uso"
   ]
  },
  {
   "cell_type": "code",
   "execution_count": 17,
   "metadata": {},
   "outputs": [],
   "source": [
    "import psycopg2                                                                     # Conectar a la base de datos PostgreSQL con PostGIS\n",
    "import numpy as np                                                                  # Manipulación de arrays numéricos y operaciones matemáticas\n",
    "import rasterio                                                                     # Manejo y procesamiento de datos ráster\n",
    "import pandas as pd                                                                 # Manejo de datos tabulares y consultas SQL\n",
    "from sklearn.model_selection import train_test_split                                # División de datos en entrenamiento y prueba\n",
    "from sklearn.ensemble import RandomForestClassifier                                 # Algoritmo de clasificación de bosques aleatorios\n",
    "from sklearn.metrics import accuracy_score, confusion_matrix, classification_report # Evaluación del modelo\n",
    "import matplotlib.pyplot as plt                                                     # Generación de gráficos\n",
    "import seaborn as sns                                                               # Visualización de datos con gráficos estadísticos\n",
    "import matplotlib.colors as mcolors                                                 # Manejo de colores en visualizaciones\n",
    "from skimage.transform import resize                                                # Redimensionamiento de imágenes\n"
   ]
  },
  {
   "cell_type": "markdown",
   "metadata": {},
   "source": [
    "Configuración de parámetros para conexión con base de datos local"
   ]
  },
  {
   "cell_type": "code",
   "execution_count": null,
   "metadata": {},
   "outputs": [],
   "source": [
    "# Configuración de conexión a la base de datos PostgreSQL con PostGIS\n",
    "DB_CONFIG = {\n",
    "    \"dbname\": \"postgis_34_sample\",      # Nombre de la base de datos\n",
    "    \"user\": \"postgres\",                 # Usuario de la base de datos\n",
    "    \"password\": \"postgres\",             # Contraseña del usuario\n",
    "    \"host\": \"localhost\",                # Dirección del servidor (localhost si es local)\n",
    "    \"port\": \"5432\"                      # Puerto predeterminado de PostgreSQL\n",
    "}\n",
    "\n",
    "def conectar_postgis():\n",
    "    \"\"\"\n",
    "    Establece una conexión a la base de datos PostgreSQL con soporte PostGIS.\n",
    "    Retorna:\n",
    "        conn (psycopg2.connection): Objeto de conexión a la base de datos.\n",
    "    \"\"\"\n",
    "    conn = psycopg2.connect(**DB_CONFIG)  # Conectar a la base de datos usando la configuración definida\n",
    "    return conn"
   ]
  },
  {
   "cell_type": "markdown",
   "metadata": {},
   "source": [
    "Extraer el ráster almacenado en la base de datos espacial"
   ]
  },
  {
   "cell_type": "code",
   "execution_count": null,
   "metadata": {},
   "outputs": [],
   "source": [
    "# Establece la conexión con la base de datos PostgreSQL con PostGIS\n",
    "conn = conectar_postgis()\n",
    "# Crea un cursor para ejecutar consultas SQL\n",
    "cur = conn.cursor()\n",
    "# Ejecuta una consulta SQL para obtener un ráster desde la base de datos en formato GDAL (GeoTIFF)\n",
    "cur.execute(\"SELECT ST_AsGDALRaster(rast, 'GTiff') FROM nir_aoi LIMIT 1;\")\n",
    "# Recupera el resultado de la consulta (raster_bin contiene los datos del ráster en formato binario)\n",
    "raster_bin = cur.fetchone()[0]\n",
    "# Guarda temporalmente la imagen ráster en un archivo local (GeoTIFF)\n",
    "with open(\"temp_raster.tif\", \"wb\") as f:\n",
    "    f.write(raster_bin)\n",
    "# Abre la imagen ráster utilizando rasterio\n",
    "with rasterio.open(\"temp_raster.tif\") as src:\n",
    "    raster_array = src.read()   # Carga el contenido del ráster como un array NumPy\n",
    "    transform = src.transform   # Obtiene la transformación del ráster (ubicación y resolución espacial)\n",
    "# Cierra el cursor y la conexión a la base de datos para liberar recursos\n",
    "cur.close()\n",
    "conn.close()"
   ]
  },
  {
   "cell_type": "markdown",
   "metadata": {},
   "source": [
    "Extraer los datos de muestras (Geometría punto. Bosque - No Bosque)"
   ]
  },
  {
   "cell_type": "code",
   "execution_count": null,
   "metadata": {},
   "outputs": [],
   "source": [
    "# Establece la conexión con la base de datos PostgreSQL con PostGIS\n",
    "conn = conectar_postgis()\n",
    "# Consulta SQL para extraer coordenadas y etiquetas de clasificación desde la tabla de muestras de entrenamiento\n",
    "query = \"\"\"\n",
    "SELECT ST_X(geom) AS lon, ST_Y(geom) AS lat, class FROM training_sample;\n",
    "\"\"\"\n",
    "# Ejecuta la consulta y almacena los resultados en un DataFrame de pandas\n",
    "df = pd.read_sql(query, conn)\n",
    "# Cierra la conexión con la base de datos para liberar recursos\n",
    "conn.close()\n",
    "df"
   ]
  },
  {
   "cell_type": "markdown",
   "metadata": {},
   "source": [
    "Extraer los valores de píxel de cada banda del ráster para cada muestra"
   ]
  },
  {
   "cell_type": "code",
   "execution_count": null,
   "metadata": {},
   "outputs": [],
   "source": [
    "# Listas para almacenar los valores de los píxeles extraídos y sus respectivas etiquetas\n",
    "valores_pixeles = []\n",
    "etiquetas = []\n",
    "# Iteramos sobre cada fila del DataFrame que contiene las muestras de entrenamiento\n",
    "for _, row in df.iterrows():\n",
    "    lon, lat, label = row['lon'], row['lat'], row['class']                              # Extraemos las coordenadas y la clase de la muestra    \n",
    "    # Convertimos coordenadas geográficas (lon, lat) a índices de píxel en la imagen ráster\n",
    "    row_idx, col_idx = ~transform * (lon, lat)                                          # Aplicamos la transformación inversa\n",
    "    row_idx, col_idx = int(row_idx), int(col_idx)                                       # Convertimos a enteros para obtener la posición en la matriz ráster\n",
    "    # Verificamos que las coordenadas convertidas estén dentro de los límites del ráster\n",
    "    if 0 <= row_idx < raster_array.shape[1] and 0 <= col_idx < raster_array.shape[2]:\n",
    "        # Extraemos los valores de las bandas del píxel correspondiente y los almacenamos en la lista\n",
    "        valores_pixeles.append([\n",
    "            raster_array[0, row_idx, col_idx],  # Banda 1 (Ej. Rojo)\n",
    "            raster_array[1, row_idx, col_idx],  # Banda 2 (Ej. Verde)\n",
    "            raster_array[2, row_idx, col_idx]   # Banda 3 (Ej. Azul)\n",
    "        ])\n",
    "        etiquetas.append(label)                                                         # Almacenamos la etiqueta de la muestra en la lista\n",
    "# Convertimos las listas a arreglos NumPy para su uso en el modelo de Machine Learning\n",
    "X, y = np.array(valores_pixeles), np.array(etiquetas)\n"
   ]
  },
  {
   "cell_type": "markdown",
   "metadata": {},
   "source": [
    "Dividir el universo de muestras en grupos de entrenamiento y validación"
   ]
  },
  {
   "cell_type": "code",
   "execution_count": null,
   "metadata": {},
   "outputs": [],
   "source": [
    "X_train, X_test, y_train, y_test = train_test_split(X, y, test_size=0.3, random_state=42)"
   ]
  },
  {
   "cell_type": "markdown",
   "metadata": {},
   "source": [
    "Entrenamiento del modelo de clasificación"
   ]
  },
  {
   "cell_type": "code",
   "execution_count": null,
   "metadata": {},
   "outputs": [],
   "source": [
    "# Inicialización del modelo de clasificación Random Forest\n",
    "modelo = RandomForestClassifier(\n",
    "    n_estimators=1000,      # Número de árboles en el bosque\n",
    "    max_depth=10,           # Profundidad máxima de cada árbol para evitar sobreajuste\n",
    "    max_features=\"sqrt\",    # Número máximo de características consideradas en cada división (raíz cuadrada del total)\n",
    "    random_state=42,        # Fijamos una semilla para asegurar reproducibilidad de resultados\n",
    "    n_jobs=-1               # Utiliza todos los núcleos de la CPU disponibles para acelerar el entrenamiento\n",
    ")\n",
    "# Entrenamiento del modelo con los datos de entrenamiento\n",
    "modelo.fit(X_train, y_train)\n",
    "# Realización de predicciones sobre el conjunto de prueba\n",
    "y_pred = modelo.predict(X_test)\n"
   ]
  },
  {
   "cell_type": "markdown",
   "metadata": {},
   "source": [
    "Evaluación del rendimiento del modelo"
   ]
  },
  {
   "cell_type": "code",
   "execution_count": null,
   "metadata": {},
   "outputs": [],
   "source": [
    "# Cálculo de la precisión del modelo\n",
    "accuracy = accuracy_score(y_test, y_pred)\n",
    "print(\"Precisión:\", accuracy)  # Imprime la precisión global del modelo\n",
    "# Cálculo de la exactitud del modelo con formato de 4 decimales\n",
    "exactitud = accuracy_score(y_test, y_pred)\n",
    "print(f\"Exactitud del modelo: {exactitud:.4f}\")\n",
    "# Cálculo de la matriz de confusión\n",
    "conf_matrix = confusion_matrix(y_test, y_pred)\n",
    "# Visualización de la matriz de confusión con Seaborn\n",
    "sns.heatmap(conf_matrix, annot=True, fmt=\"d\", cmap=\"Blues\", \n",
    "            xticklabels=[\"No Bosque\", \"Bosque\"], \n",
    "            yticklabels=[\"No Bosque\", \"Bosque\"])\n",
    "# Etiquetas para los ejes\n",
    "plt.xlabel(\"Predicción\")            # Etiqueta del eje X\n",
    "plt.ylabel(\"Real\")                  # Etiqueta del eje Y\n",
    "plt.title(\"Matriz de Confusión\")    # Título del gráfico\n",
    "plt.show()                          # Mostrar la matriz de confusión\n",
    "# Generación del informe de clasificación con métricas detalladas\n",
    "print(classification_report(y_test, y_pred, target_names=[\"No Bosque\", \"Bosque\"]))"
   ]
  },
  {
   "cell_type": "markdown",
   "metadata": {},
   "source": [
    "Aplicación del modelo para predecir la clase de cada píxel en la imagen ráster"
   ]
  },
  {
   "cell_type": "code",
   "execution_count": null,
   "metadata": {},
   "outputs": [],
   "source": [
    "filas, columnas = raster_array.shape[1], raster_array.shape[2]  # Extraemos el número de filas y columnas del ráster\n",
    "# Reestructuramos la imagen ráster en una matriz donde cada fila es un píxel y las columnas son las bandas espectrales\n",
    "raster_reshaped = raster_array.reshape(3, -1).T                 # Convertimos a formato (N, 3), donde N es el número total de píxeles\n",
    "predicciones = modelo.predict(raster_reshaped)                  # Aplicamos el modelo entrenado para predecir la clase de cada píxel en la imagen ráster\n",
    "predict_ = predicciones.reshape(filas, columnas)                # Reformateamos las predicciones en la misma estructura de la imagen original (filas, columnas)"
   ]
  },
  {
   "cell_type": "code",
   "execution_count": null,
   "metadata": {},
   "outputs": [],
   "source": [
    "mapa_clases = {\"No_Bosque\": 0, \"Bosque\": 1}                         # Diccionario de mapeo de clases: Asigna valores numéricos a las etiquetas de clasificación\n",
    "predict_numeric = np.vectorize(mapa_clases.get)(predict_)           # Convierte la matriz de predicciones categóricas a valores numéricos usando el diccionario de mapeo\n",
    "filas, columnas = raster_array.shape[1], raster_array.shape[2]      # Extraemos las dimensiones de la imagen original\n",
    "# Redimensionamos la imagen predicha para ajustarla a la resolución original del ráster\n",
    "predict_resized = resize(\n",
    "    predict_numeric, (filas, columnas), \n",
    "    order=0,                                                        # Mantiene valores discretos sin interpolación\n",
    "    anti_aliasing=False,                                            # Evita suavizar los bordes para mantener las clases bien definidas\n",
    "    preserve_range=True                                             # Mantiene los valores originales sin normalización\n",
    ")\n",
    "cmap = mcolors.ListedColormap([\"green\", \"white\"])                   # Definimos un mapa de colores para visualizar la clasificación. \"Bosque\" será verde, \"No Bosque\" será blanco\n",
    "bounds = [0, 0.5, 1]                                                # Definimos los límites de cada clase en el mapa de colores\n",
    "norm = mcolors.BoundaryNorm(bounds, cmap.N)\n",
    "fig, axs = plt.subplots(1, 2, figsize=(14, 7))                      # Creamos una figura con 2 subgráficos (1 fila, 2 columnas)\n",
    "# Construimos una imagen en color RGB a partir de las bandas del ráster original\n",
    "raster_rgb = np.stack([\n",
    "    raster_array[0],  # Banda Roja\n",
    "    raster_array[1],  # Banda Verde\n",
    "    raster_array[2]   # Banda Azul\n",
    "], axis=-1)\n",
    "raster_rgb = raster_rgb.astype(np.float32)                          # Normalizamos los valores del ráster RGB para mejorar la visualización\n",
    "raster_rgb /= raster_rgb.max()\n",
    "axs[0].imshow(raster_rgb)                                           # Mostramos la imagen original en la primera columna\n",
    "axs[0].set_title(\"Imagen Original (RGB)\")\n",
    "axs[0].axis(\"off\")                                                  # Oculta los ejes para mejorar la visualización\n",
    "img = axs[1].imshow(predict_resized, cmap=cmap, norm=norm)          # Mostramos la clasificación \"Bosque / No Bosque\" en la segunda columna\n",
    "axs[1].set_title(\"Clasificación Bosque / No Bosque\")\n",
    "axs[1].axis(\"off\")\n",
    "plt.tight_layout()                                                  # Ajusta el diseño de la figura para evitar solapamientos\n",
    "plt.show()                                                          # Muestra la figura con las dos imágenes"
   ]
  },
  {
   "cell_type": "code",
   "execution_count": null,
   "metadata": {},
   "outputs": [],
   "source": [
    "output_raster_path = \"clasificacion_bosque.tif\"\n",
    "transform = rasterio.open(\"temp_raster.tif\").transform  # Extrae la transformación del raster original\n",
    "# Guardar el resultado en un nuevo raster GeoTIFF\n",
    "with rasterio.open(\n",
    "    output_raster_path, \"w\",\n",
    "    driver=\"GTiff\",\n",
    "    height=predict_resized.shape[0], \n",
    "    width=predict_resized.shape[1],\n",
    "    count=1,  # Una sola banda (clasificación)\n",
    "    dtype=rasterio.uint8,  # Tipo de datos para la clasificación (0 y 1)\n",
    "    crs=\"EPSG:32619\",  # Asegurar que tenga el mismo CRS que la imagen original\n",
    "    transform=transform\n",
    ") as dst:\n",
    "    dst.write(predict_resized.astype(rasterio.uint8), 1)"
   ]
  },
  {
   "cell_type": "code",
   "execution_count": null,
   "metadata": {},
   "outputs": [],
   "source": [
    "import psycopg2     # psycopg2: Librería para conectar Python con bases de datos PostgreSQL. Permite ejecutar consultas SQL, manipular datos y gestionar transacciones.\n",
    "import subprocess   # subprocess: Módulo para ejecutar comandos del sistema desde Python. Se usa para llamar programas externos como psql, raster2pgsql, etc.\n",
    "import os\n",
    "\n",
    "DB_CONFIG = {\n",
    "    \"dbname\": \"postgis_34_sample\",      # Nombre de la base de datos\n",
    "    \"user\": \"postgres\",                 # Usuario de la base de datos\n",
    "    \"password\": \"postgres\",             # Contraseña del usuario\n",
    "    \"host\": \"localhost\",                # Dirección del servidor (localhost si es local)\n",
    "    \"port\": \"5432\"                      # Puerto predeterminado de PostgreSQL\n",
    "}\n",
    "conn = psycopg2.connect(**DB_CONFIG) \n",
    "cur = conn.cursor()\n",
    "# Abrir el archivo raster (.tif)\n",
    "raster_path = r'C:\\Users\\ingju\\OneDrive\\Escritorio\\Repositorios\\Tools_ArcGIS\\PostGIS_Python\\PostGIS_Python\\clasificacion_bosque.tif'\n",
    "os.environ[\"PGPASSWORD\"] = DB_CONFIG[\"password\"]\n",
    "'''\n",
    "¿Por qué usar PGPASSWORD?\n",
    "- Evita que psql solicite la contraseña cada vez que se ejecuta un comando.\n",
    "- Facilita la automatización de tareas en PostgreSQL, como importar datos o ejecutar scripts SQL.\n",
    "- Es más seguro que escribir la contraseña directamente en el comando, pero aún es recomendable eliminarla después de su uso.'\n",
    "'''\n",
    "\n",
    "# Ruta a la carpeta donde están raster2pgsql y psql\n",
    "pg_bin_path = r\"C:\\Program Files\\PostgreSQL\\16\\bin\"\n",
    "sql_output_path = r\"C:\\Shp_Example\\classify_raster.sql\"\n",
    "# Construir el comando con la ruta completa de raster2pgsql y psql\n",
    "cmd = fr'\"{pg_bin_path}\\raster2pgsql.exe\" -s 32619 -I -C \"{raster_path}\" >  {sql_output_path}'\n",
    "# Ejecutar el comando en la terminal\n",
    "process = subprocess.run(cmd, shell=True, capture_output=True, text=True)\n",
    "\n",
    "cmd = fr'\"{pg_bin_path}\\psql.exe\" -d {DB_CONFIG[\"dbname\"]} -U {DB_CONFIG[\"user\"]} -h {DB_CONFIG[\"host\"]} -p {DB_CONFIG[\"port\"]} -f \"{sql_output_path}\"'\n",
    "# Ejecutar el comando\n",
    "process = subprocess.run(cmd, shell=True, capture_output=True, text=True)\n",
    "# Limpiar la variable de entorno después de ejecutar el comando\n",
    "del os.environ[\"PGPASSWORD\"]\n",
    "print(process.stdout)"
   ]
  },
  {
   "cell_type": "markdown",
   "metadata": {},
   "source": [
    "```{image} Imagenes/Load_Classify.png\n",
    ":width: 500px\n",
    ":align: center\n",
    ":alt: unidad\n",
    "```\n",
    "<p style=\"text-align: center; font-size: 12px;\"> \n",
    "<strong>Fig. 2. Conexión a base de datos espacial desde QGIS para visualización de resultados </strong>\n",
    "</p>"
   ]
  },
  {
   "cell_type": "markdown",
   "metadata": {},
   "source": [
    "### Referencias y Recursos\n",
    "\n",
    "##### Bases de Datos\n",
    "- **Oracle** - [¿Qué es una base de datos?](https://www.oracle.com/co/database/what-is-database/)\n",
    "- **PostgreSQL** - [Introducción a PostgreSQL](https://www.postgresql.org/docs/current/intro-whatis.html)\n",
    "- **PostgreSQL - Documentación** - [PostgreSQL Docs](https://www.postgresql.org/docs/current/)\n",
    "\n",
    "##### SQL\n",
    "- **SQL en AWS** - [¿Qué es SQL?](https://aws.amazon.com/es/what-is/sql/#:~:text=El%20lenguaje%20de%20consulta%20estructurada%20(SQL)%20es%20un%20lenguaje%20est%C3%A1ndar,relacional%20que%20utiliza%20consultas%20SQL.)\n",
    "- **Acciones SQL en PostgreSQL** - [Documentación Oficial](https://www.postgresql.org/docs/current/)\n",
    "\n",
    "##### PostGIS\n",
    "- **Sitio Oficial de PostGIS** - [PostGIS.net](https://postgis.net/)\n",
    "- **Carga de datos vectoriales en PostGIS** - [Gestión de datos en PostGIS](https://postgis.net/docs/manual-3.5/using_postgis_dbmanagement.html#loading-data)\n",
    "- **Formatos Ráster en PostGIS** - [Uso de datos ráster en PostGIS](https://postgis.net/docs/using_raster_dataman)\n",
    "\n",
    "##### Python y Librerías Científicas\n",
    "1. **NumPy** - [Sitio Oficial](https://numpy.org/)\n",
    "2. **Pandas** - [Documentación Oficial](https://pandas.pydata.org/docs/)\n",
    "3. **GeoPandas** - [Documentación Oficial](https://geopandas.org/en/stable/)\n",
    "4. **Scikit-Image** - [Documentación Oficial](https://scikit-image.org/docs/stable/)\n",
    "5. **Scikit-Learn** - [Sitio Oficial](https://scikit-learn.org/stable/)\n",
    "6. **Rasterio** - [Documentación Oficial](https://rasterio.readthedocs.io/en/latest/)\n",
    "7. **Shapely** - [Documentación Oficial](https://shapely.readthedocs.io/en/stable/)\n",
    "8. **Matplotlib** - [Documentación Oficial](https://matplotlib.org/stable/contents.html)\n",
    "\n",
    "##### Jupyter y Entornos de Desarrollo\n",
    "- **JupyterBook** - [Documentación Oficial](https://jupyterbook.org/en/stable/content/index.html)\n",
    "- **Jupyter Notebook** - [Guía Oficial](https://jupyter.org/documentation)\n",
    "- **VS Code para Python** - [Extensión Oficial](https://marketplace.visualstudio.com/items?itemName=ms-python.python)"
   ]
  }
 ],
 "metadata": {
  "kernelspec": {
   "display_name": "Python 3 (ipykernel)",
   "language": "python",
   "name": "python3"
  },
  "language_info": {
   "codemirror_mode": {
    "name": "ipython",
    "version": 3
   },
   "file_extension": ".py",
   "mimetype": "text/x-python",
   "name": "python",
   "nbconvert_exporter": "python",
   "pygments_lexer": "ipython3",
   "version": "3.11.8"
  }
 },
 "nbformat": 4,
 "nbformat_minor": 2
}